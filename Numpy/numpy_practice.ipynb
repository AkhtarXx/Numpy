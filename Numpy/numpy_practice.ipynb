{
 "cells": [
  {
   "cell_type": "markdown",
   "id": "9996fa8a",
   "metadata": {},
   "source": [
    " # NUMPY:\n"
   ]
  },
  {
   "cell_type": "markdown",
   "id": "3007985b",
   "metadata": {},
   "source": [
    "## checking the version of numpy"
   ]
  },
  {
   "cell_type": "code",
   "execution_count": 1,
   "id": "7c091df3",
   "metadata": {},
   "outputs": [],
   "source": [
    "#first import the numpy library\n",
    "import numpy as np"
   ]
  },
  {
   "cell_type": "code",
   "execution_count": 2,
   "id": "09cd0850",
   "metadata": {},
   "outputs": [
    {
     "data": {
      "text/plain": [
       "'1.22.2'"
      ]
     },
     "execution_count": 2,
     "metadata": {},
     "output_type": "execute_result"
    }
   ],
   "source": [
    "np.__version__"
   ]
  },
  {
   "cell_type": "markdown",
   "id": "aa51dd96",
   "metadata": {},
   "source": [
    "### Creating our first array \n"
   ]
  },
  {
   "cell_type": "code",
   "execution_count": 3,
   "id": "fecfecfc",
   "metadata": {},
   "outputs": [
    {
     "data": {
      "text/plain": [
       "array([[0., 0.],\n",
       "       [0., 0.],\n",
       "       [0., 0.],\n",
       "       [0., 0.],\n",
       "       [0., 0.]])"
      ]
     },
     "execution_count": 3,
     "metadata": {},
     "output_type": "execute_result"
    }
   ],
   "source": [
    "# creating a array full of zeros\n",
    "np.zeros([5,2])  # by 5,2  means 5 rows and 2 colums"
   ]
  },
  {
   "cell_type": "code",
   "execution_count": 4,
   "id": "ad61e462",
   "metadata": {},
   "outputs": [
    {
     "data": {
      "text/plain": [
       "array([[1., 1.],\n",
       "       [1., 1.],\n",
       "       [1., 1.]])"
      ]
     },
     "execution_count": 4,
     "metadata": {},
     "output_type": "execute_result"
    }
   ],
   "source": [
    "# creating a array full of ones\n",
    "np.ones([3,2])"
   ]
  },
  {
   "cell_type": "markdown",
   "id": "a33334c3",
   "metadata": {},
   "source": [
    "#### Creating our 1D own array"
   ]
  },
  {
   "cell_type": "code",
   "execution_count": 5,
   "id": "7ed89e05",
   "metadata": {},
   "outputs": [],
   "source": [
    "a = np.arange(1,20) # with this arrange function you can create your own array"
   ]
  },
  {
   "cell_type": "code",
   "execution_count": 6,
   "id": "6fec0865",
   "metadata": {},
   "outputs": [
    {
     "data": {
      "text/plain": [
       "array([ 1,  2,  3,  4,  5,  6,  7,  8,  9, 10, 11, 12, 13, 14, 15, 16, 17,\n",
       "       18, 19])"
      ]
     },
     "execution_count": 6,
     "metadata": {},
     "output_type": "execute_result"
    }
   ],
   "source": [
    "a"
   ]
  },
  {
   "cell_type": "markdown",
   "id": "248ea3dd",
   "metadata": {},
   "source": [
    "##### Want to access the array specific elemet"
   ]
  },
  {
   "cell_type": "code",
   "execution_count": 7,
   "id": "27aa9b1a",
   "metadata": {},
   "outputs": [
    {
     "data": {
      "text/plain": [
       "4"
      ]
     },
     "execution_count": 7,
     "metadata": {},
     "output_type": "execute_result"
    }
   ],
   "source": [
    "a[3] # in python the index starts with 0"
   ]
  },
  {
   "cell_type": "markdown",
   "id": "5d793951",
   "metadata": {},
   "source": [
    "#### Want to add an element in the array"
   ]
  },
  {
   "cell_type": "code",
   "execution_count": 8,
   "id": "08ed8795",
   "metadata": {},
   "outputs": [],
   "source": [
    "# We will use numpy append function to add an element to the array.\n",
    "new=np.append(a,20)"
   ]
  },
  {
   "cell_type": "code",
   "execution_count": 9,
   "id": "e66d803a",
   "metadata": {},
   "outputs": [
    {
     "data": {
      "text/plain": [
       "array([ 1,  2,  3,  4,  5,  6,  7,  8,  9, 10, 11, 12, 13, 14, 15, 16, 17,\n",
       "       18, 19, 20])"
      ]
     },
     "execution_count": 9,
     "metadata": {},
     "output_type": "execute_result"
    }
   ],
   "source": [
    "new"
   ]
  },
  {
   "cell_type": "markdown",
   "id": "505bdabf",
   "metadata": {},
   "source": [
    "###### Want to see the data type of an array"
   ]
  },
  {
   "cell_type": "code",
   "execution_count": 10,
   "id": "a516de27",
   "metadata": {
    "scrolled": true
   },
   "outputs": [
    {
     "data": {
      "text/plain": [
       "dtype('int32')"
      ]
     },
     "execution_count": 10,
     "metadata": {},
     "output_type": "execute_result"
    }
   ],
   "source": [
    "a.dtype"
   ]
  },
  {
   "cell_type": "markdown",
   "id": "c13ce1d2",
   "metadata": {},
   "source": [
    "###### Want to see the shape of array"
   ]
  },
  {
   "cell_type": "code",
   "execution_count": 11,
   "id": "ea279ad5",
   "metadata": {},
   "outputs": [
    {
     "data": {
      "text/plain": [
       "(19,)"
      ]
     },
     "execution_count": 11,
     "metadata": {},
     "output_type": "execute_result"
    }
   ],
   "source": [
    "a.shape"
   ]
  },
  {
   "cell_type": "markdown",
   "id": "8c5742cf",
   "metadata": {},
   "source": [
    "## Math operation on  2D arrays"
   ]
  },
  {
   "cell_type": "code",
   "execution_count": 12,
   "id": "bad12c7b",
   "metadata": {},
   "outputs": [],
   "source": [
    "# lets create first 2 arrays\n",
    "c=np.array([[1,2,3,],[3,4,5],[7,8,9]])\n",
    "d=np.array([[1,2,3,],[3,4,5],[7,8,9]])"
   ]
  },
  {
   "cell_type": "code",
   "execution_count": 13,
   "id": "f371c3ab",
   "metadata": {
    "scrolled": false
   },
   "outputs": [
    {
     "name": "stdout",
     "output_type": "stream",
     "text": [
      "[[1 2 3]\n",
      " [3 4 5]\n",
      " [7 8 9]] [[1 2 3]\n",
      " [3 4 5]\n",
      " [7 8 9]]\n"
     ]
    }
   ],
   "source": [
    "print(c,d)"
   ]
  },
  {
   "cell_type": "markdown",
   "id": "e9e3ee7b",
   "metadata": {},
   "source": [
    "## checking the dimension of array"
   ]
  },
  {
   "cell_type": "code",
   "execution_count": 14,
   "id": "ffa115e8",
   "metadata": {},
   "outputs": [
    {
     "data": {
      "text/plain": [
       "2"
      ]
     },
     "execution_count": 14,
     "metadata": {},
     "output_type": "execute_result"
    }
   ],
   "source": [
    "np.ndim(c)"
   ]
  },
  {
   "cell_type": "code",
   "execution_count": 15,
   "id": "5f7a94cd",
   "metadata": {},
   "outputs": [
    {
     "data": {
      "text/plain": [
       "(3, 3)"
      ]
     },
     "execution_count": 15,
     "metadata": {},
     "output_type": "execute_result"
    }
   ],
   "source": [
    "np.shape(c) # to perform these opertion on array. array shape and dimension should be same "
   ]
  },
  {
   "cell_type": "code",
   "execution_count": 16,
   "id": "82b83e2b",
   "metadata": {},
   "outputs": [],
   "source": [
    "add=np.add(c,d) # .add is numpy function to add two array"
   ]
  },
  {
   "cell_type": "code",
   "execution_count": 17,
   "id": "2291d6b9",
   "metadata": {},
   "outputs": [
    {
     "data": {
      "text/plain": [
       "array([[ 2,  4,  6],\n",
       "       [ 6,  8, 10],\n",
       "       [14, 16, 18]])"
      ]
     },
     "execution_count": 17,
     "metadata": {},
     "output_type": "execute_result"
    }
   ],
   "source": [
    "add"
   ]
  },
  {
   "cell_type": "code",
   "execution_count": 18,
   "id": "8acc910c",
   "metadata": {},
   "outputs": [],
   "source": [
    "# subtraction of array\n",
    "sub=np.subtract(c,d) # .subtract is numpy function to subtract two array"
   ]
  },
  {
   "cell_type": "code",
   "execution_count": 19,
   "id": "29b033f9",
   "metadata": {},
   "outputs": [
    {
     "data": {
      "text/plain": [
       "array([[0, 0, 0],\n",
       "       [0, 0, 0],\n",
       "       [0, 0, 0]])"
      ]
     },
     "execution_count": 19,
     "metadata": {},
     "output_type": "execute_result"
    }
   ],
   "source": [
    "sub"
   ]
  },
  {
   "cell_type": "code",
   "execution_count": 20,
   "id": "12a6edf2",
   "metadata": {},
   "outputs": [],
   "source": [
    "# multiplycation of an array\n",
    "mul=np.multiply(c,d) # .multiply is numpy function to multiply two array"
   ]
  },
  {
   "cell_type": "code",
   "execution_count": 21,
   "id": "3d656d45",
   "metadata": {},
   "outputs": [
    {
     "data": {
      "text/plain": [
       "array([[ 1,  4,  9],\n",
       "       [ 9, 16, 25],\n",
       "       [49, 64, 81]])"
      ]
     },
     "execution_count": 21,
     "metadata": {},
     "output_type": "execute_result"
    }
   ],
   "source": [
    "mul"
   ]
  },
  {
   "cell_type": "code",
   "execution_count": 22,
   "id": "f84d5899",
   "metadata": {},
   "outputs": [],
   "source": [
    "# divison of array\n",
    "div=np.divide(c,d) # .divide is numpy function to divide two array"
   ]
  },
  {
   "cell_type": "code",
   "execution_count": 23,
   "id": "2e5cb544",
   "metadata": {},
   "outputs": [
    {
     "data": {
      "text/plain": [
       "array([[1., 1., 1.],\n",
       "       [1., 1., 1.],\n",
       "       [1., 1., 1.]])"
      ]
     },
     "execution_count": 23,
     "metadata": {},
     "output_type": "execute_result"
    }
   ],
   "source": [
    "div"
   ]
  },
  {
   "cell_type": "markdown",
   "id": "aa737df6",
   "metadata": {},
   "source": [
    "## sorting of array"
   ]
  },
  {
   "cell_type": "code",
   "execution_count": 24,
   "id": "4446a434",
   "metadata": {},
   "outputs": [],
   "source": [
    "# lets just create simple array \n",
    "g=np.array([2,58,68,58,95,8,5,8])"
   ]
  },
  {
   "cell_type": "code",
   "execution_count": 25,
   "id": "e1d7f462",
   "metadata": {
    "scrolled": true
   },
   "outputs": [
    {
     "data": {
      "text/plain": [
       "array([ 2,  5,  8,  8, 58, 58, 68, 95])"
      ]
     },
     "execution_count": 25,
     "metadata": {},
     "output_type": "execute_result"
    }
   ],
   "source": [
    "np.sort(g) # SORT FUNCTION IN NUMPY TO SORT AN ARRRAY"
   ]
  },
  {
   "cell_type": "markdown",
   "id": "a253da56",
   "metadata": {},
   "source": [
    "## Want an array with evenly spaced numbers over a specified interval"
   ]
  },
  {
   "cell_type": "code",
   "execution_count": 26,
   "id": "d4ab94ff",
   "metadata": {},
   "outputs": [
    {
     "data": {
      "text/plain": [
       "array([  0.        ,   7.14285714,  14.28571429,  21.42857143,\n",
       "        28.57142857,  35.71428571,  42.85714286,  50.        ,\n",
       "        57.14285714,  64.28571429,  71.42857143,  78.57142857,\n",
       "        85.71428571,  92.85714286, 100.        ])"
      ]
     },
     "execution_count": 26,
     "metadata": {},
     "output_type": "execute_result"
    }
   ],
   "source": [
    "# In numpy we have a function call linspace\n",
    "np.linspace(0,100, num=15) # by 0,100,15 means  the array should start from 0 and ends on 100 the samples we want =15"
   ]
  },
  {
   "cell_type": "markdown",
   "id": "d1a899f6",
   "metadata": {},
   "source": [
    "## Array with the given shape, dtype, and order."
   ]
  },
  {
   "cell_type": "code",
   "execution_count": 27,
   "id": "21c4765d",
   "metadata": {},
   "outputs": [
    {
     "data": {
      "text/plain": [
       "array([[112, 112],\n",
       "       [112, 112]])"
      ]
     },
     "execution_count": 27,
     "metadata": {},
     "output_type": "execute_result"
    }
   ],
   "source": [
    "np.full((2,2),112,)"
   ]
  },
  {
   "cell_type": "markdown",
   "id": "f4bd5899",
   "metadata": {},
   "source": [
    "## For more details check numpy website\n",
    " https://numpy.org/doc/stable/user/absolute_beginners.html"
   ]
  }
 ],
 "metadata": {
  "kernelspec": {
   "display_name": "Python 3 (ipykernel)",
   "language": "python",
   "name": "python3"
  },
  "language_info": {
   "codemirror_mode": {
    "name": "ipython",
    "version": 3
   },
   "file_extension": ".py",
   "mimetype": "text/x-python",
   "name": "python",
   "nbconvert_exporter": "python",
   "pygments_lexer": "ipython3",
   "version": "3.10.5"
  }
 },
 "nbformat": 4,
 "nbformat_minor": 5
}
